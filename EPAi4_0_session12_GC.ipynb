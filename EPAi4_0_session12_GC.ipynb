{
  "nbformat": 4,
  "nbformat_minor": 0,
  "metadata": {
    "colab": {
      "name": "EPAi4.0-session12-GC.ipynb",
      "provenance": [],
      "authorship_tag": "ABX9TyOpcwUN40UiYlRMV1edxD6e",
      "include_colab_link": true
    },
    "kernelspec": {
      "name": "python3",
      "display_name": "Python 3"
    },
    "language_info": {
      "name": "python"
    }
  },
  "cells": [
    {
      "cell_type": "markdown",
      "metadata": {
        "id": "view-in-github",
        "colab_type": "text"
      },
      "source": [
        "<a href=\"https://colab.research.google.com/github/aneeshads/EPAi4.0-assignment-12/blob/main/EPAi4_0_session12_GC.ipynb\" target=\"_parent\"><img src=\"https://colab.research.google.com/assets/colab-badge.svg\" alt=\"Open In Colab\"/></a>"
      ]
    },
    {
      "cell_type": "code",
      "execution_count": 9,
      "metadata": {
        "colab": {
          "base_uri": "https://localhost:8080/"
        },
        "id": "h2XyMQtogl4m",
        "outputId": "8cf6e6dc-0918-4395-db08-db70b90b58c6"
      },
      "outputs": [
        {
          "output_type": "stream",
          "name": "stdout",
          "text": [
            "Cloning into 'EPAi4.0-assignment-12'...\n",
            "remote: Enumerating objects: 31, done.\u001b[K\n",
            "remote: Counting objects:   3% (1/31)\u001b[K\rremote: Counting objects:   6% (2/31)\u001b[K\rremote: Counting objects:   9% (3/31)\u001b[K\rremote: Counting objects:  12% (4/31)\u001b[K\rremote: Counting objects:  16% (5/31)\u001b[K\rremote: Counting objects:  19% (6/31)\u001b[K\rremote: Counting objects:  22% (7/31)\u001b[K\rremote: Counting objects:  25% (8/31)\u001b[K\rremote: Counting objects:  29% (9/31)\u001b[K\rremote: Counting objects:  32% (10/31)\u001b[K\rremote: Counting objects:  35% (11/31)\u001b[K\rremote: Counting objects:  38% (12/31)\u001b[K\rremote: Counting objects:  41% (13/31)\u001b[K\rremote: Counting objects:  45% (14/31)\u001b[K\rremote: Counting objects:  48% (15/31)\u001b[K\rremote: Counting objects:  51% (16/31)\u001b[K\rremote: Counting objects:  54% (17/31)\u001b[K\rremote: Counting objects:  58% (18/31)\u001b[K\rremote: Counting objects:  61% (19/31)\u001b[K\rremote: Counting objects:  64% (20/31)\u001b[K\rremote: Counting objects:  67% (21/31)\u001b[K\rremote: Counting objects:  70% (22/31)\u001b[K\rremote: Counting objects:  74% (23/31)\u001b[K\rremote: Counting objects:  77% (24/31)\u001b[K\rremote: Counting objects:  80% (25/31)\u001b[K\rremote: Counting objects:  83% (26/31)\u001b[K\rremote: Counting objects:  87% (27/31)\u001b[K\rremote: Counting objects:  90% (28/31)\u001b[K\rremote: Counting objects:  93% (29/31)\u001b[K\rremote: Counting objects:  96% (30/31)\u001b[K\rremote: Counting objects: 100% (31/31)\u001b[K\rremote: Counting objects: 100% (31/31), done.\u001b[K\n",
            "remote: Compressing objects:   4% (1/25)\u001b[K\rremote: Compressing objects:   8% (2/25)\u001b[K\rremote: Compressing objects:  12% (3/25)\u001b[K\rremote: Compressing objects:  16% (4/25)\u001b[K\rremote: Compressing objects:  20% (5/25)\u001b[K\rremote: Compressing objects:  24% (6/25)\u001b[K\rremote: Compressing objects:  28% (7/25)\u001b[K\rremote: Compressing objects:  32% (8/25)\u001b[K\rremote: Compressing objects:  36% (9/25)\u001b[K\rremote: Compressing objects:  40% (10/25)\u001b[K\rremote: Compressing objects:  44% (11/25)\u001b[K\rremote: Compressing objects:  48% (12/25)\u001b[K\rremote: Compressing objects:  52% (13/25)\u001b[K\rremote: Compressing objects:  56% (14/25)\u001b[K\rremote: Compressing objects:  60% (15/25)\u001b[K\rremote: Compressing objects:  64% (16/25)\u001b[K\rremote: Compressing objects:  68% (17/25)\u001b[K\rremote: Compressing objects:  72% (18/25)\u001b[K\rremote: Compressing objects:  76% (19/25)\u001b[K\rremote: Compressing objects:  80% (20/25)\u001b[K\rremote: Compressing objects:  84% (21/25)\u001b[K\rremote: Compressing objects:  88% (22/25)\u001b[K\rremote: Compressing objects:  92% (23/25)\u001b[K\rremote: Compressing objects:  96% (24/25)\u001b[K\rremote: Compressing objects: 100% (25/25)\u001b[K\rremote: Compressing objects: 100% (25/25), done.\u001b[K\n",
            "remote: Total 31 (delta 6), reused 0 (delta 0), pack-reused 0\u001b[K\n",
            "Unpacking objects:   3% (1/31)   \rUnpacking objects:   6% (2/31)   \rUnpacking objects:   9% (3/31)   \rUnpacking objects:  12% (4/31)   \rUnpacking objects:  16% (5/31)   \rUnpacking objects:  19% (6/31)   \rUnpacking objects:  22% (7/31)   \rUnpacking objects:  25% (8/31)   \rUnpacking objects:  29% (9/31)   \rUnpacking objects:  32% (10/31)   \rUnpacking objects:  35% (11/31)   \rUnpacking objects:  38% (12/31)   \rUnpacking objects:  41% (13/31)   \rUnpacking objects:  45% (14/31)   \rUnpacking objects:  48% (15/31)   \rUnpacking objects:  51% (16/31)   \rUnpacking objects:  54% (17/31)   \rUnpacking objects:  58% (18/31)   \rUnpacking objects:  61% (19/31)   \rUnpacking objects:  64% (20/31)   \rUnpacking objects:  67% (21/31)   \rUnpacking objects:  70% (22/31)   \rUnpacking objects:  74% (23/31)   \rUnpacking objects:  77% (24/31)   \rUnpacking objects:  80% (25/31)   \rUnpacking objects:  83% (26/31)   \rUnpacking objects:  87% (27/31)   \rUnpacking objects:  90% (28/31)   \rUnpacking objects:  93% (29/31)   \rUnpacking objects:  96% (30/31)   \rUnpacking objects: 100% (31/31)   \rUnpacking objects: 100% (31/31), done.\n"
          ]
        }
      ],
      "source": [
        "!git clone https://github.com/aneeshads/EPAi4.0-assignment-12"
      ]
    },
    {
      "cell_type": "code",
      "source": [
        "pwd"
      ],
      "metadata": {
        "colab": {
          "base_uri": "https://localhost:8080/",
          "height": 36
        },
        "id": "TyuM1vHShdvG",
        "outputId": "d33571cb-2adb-4ed5-9b7a-e49ba1479c6e"
      },
      "execution_count": 10,
      "outputs": [
        {
          "output_type": "execute_result",
          "data": {
            "application/vnd.google.colaboratory.intrinsic+json": {
              "type": "string"
            },
            "text/plain": [
              "'/content/EPAi4.0-assignment-12'"
            ]
          },
          "metadata": {},
          "execution_count": 10
        }
      ]
    },
    {
      "cell_type": "code",
      "source": [
        "cd EPAi4.0-assignment-12/"
      ],
      "metadata": {
        "colab": {
          "base_uri": "https://localhost:8080/"
        },
        "id": "rB47vFu0h3cQ",
        "outputId": "f9f39523-3b1a-4cc4-9aa9-fb07718e7862"
      },
      "execution_count": 11,
      "outputs": [
        {
          "output_type": "stream",
          "name": "stdout",
          "text": [
            "/content/EPAi4.0-assignment-12/EPAi4.0-assignment-12\n"
          ]
        }
      ]
    },
    {
      "cell_type": "code",
      "source": [
        "pwd\n"
      ],
      "metadata": {
        "colab": {
          "base_uri": "https://localhost:8080/",
          "height": 36
        },
        "id": "oUgo37vSiFmR",
        "outputId": "d75eb220-4a59-476a-9b0b-c74825861733"
      },
      "execution_count": 12,
      "outputs": [
        {
          "output_type": "execute_result",
          "data": {
            "application/vnd.google.colaboratory.intrinsic+json": {
              "type": "string"
            },
            "text/plain": [
              "'/content/EPAi4.0-assignment-12/EPAi4.0-assignment-12'"
            ]
          },
          "metadata": {},
          "execution_count": 12
        }
      ]
    },
    {
      "cell_type": "code",
      "source": [
        "from polygon import Polygon\n",
        "from polygon import PolygonSequence"
      ],
      "metadata": {
        "id": "PYDWC0tdiFvM"
      },
      "execution_count": 13,
      "outputs": []
    },
    {
      "cell_type": "markdown",
      "source": [
        "# Objective 1: Create a Polygon Class\n",
        "\n"
      ],
      "metadata": {
        "id": "bBvxfKA1JE3w"
      }
    },
    {
      "cell_type": "code",
      "source": [
        "print(Polygon(3, 5))"
      ],
      "metadata": {
        "colab": {
          "base_uri": "https://localhost:8080/"
        },
        "id": "vDwYwU0qiF3u",
        "outputId": "dfe0d308-09c4-487b-f69b-7b0f54dbf96a"
      },
      "execution_count": 14,
      "outputs": [
        {
          "output_type": "stream",
          "name": "stdout",
          "text": [
            "For a polygon with the number of vertices 3 and a circumradius of 5\n",
            ",         The measure of interior angle is 60.0\n",
            ".         The measure of edge length is 8.66\n",
            ".         The measure of apothem is 2.5\n",
            ".         The measure of area is 32.48\n",
            ".         The measure of perimeter is 25.98\n",
            "\n"
          ]
        }
      ]
    },
    {
      "cell_type": "code",
      "source": [
        "p1 = Polygon(3, 8)\n",
        "p2 = Polygon(3, 8)\n",
        "\n",
        "print(p1 == p2)"
      ],
      "metadata": {
        "colab": {
          "base_uri": "https://localhost:8080/"
        },
        "id": "fLel5VKgimU7",
        "outputId": "4f1a0c17-6232-457e-9ad7-95563b90f6ab"
      },
      "execution_count": 15,
      "outputs": [
        {
          "output_type": "stream",
          "name": "stdout",
          "text": [
            "True\n"
          ]
        }
      ]
    },
    {
      "cell_type": "code",
      "source": [
        "p1 = Polygon(3, 8)\n",
        "p2 = Polygon(5, 8)\n",
        "\n",
        "print(p1 > p2)"
      ],
      "metadata": {
        "colab": {
          "base_uri": "https://localhost:8080/"
        },
        "id": "OEQ2C9tKimej",
        "outputId": "8890bc3d-5e97-453a-c7f3-37b196901d45"
      },
      "execution_count": 16,
      "outputs": [
        {
          "output_type": "stream",
          "name": "stdout",
          "text": [
            "False\n"
          ]
        }
      ]
    },
    {
      "cell_type": "markdown",
      "source": [
        "# Objective 2: Create a custom polygon sequence"
      ],
      "metadata": {
        "id": "ZSMfr5jWJW1t"
      }
    },
    {
      "cell_type": "code",
      "source": [
        "p = PolygonSequence(10, 5)\n",
        "print(p)"
      ],
      "metadata": {
        "colab": {
          "base_uri": "https://localhost:8080/"
        },
        "id": "S1LLe5ltiGAb",
        "outputId": "0eb90f58-c2aa-4374-a706-0a6024485fe9"
      },
      "execution_count": 17,
      "outputs": [
        {
          "output_type": "stream",
          "name": "stdout",
          "text": [
            "This is a PolygonSequence class with polygons upto 10 vertices and 5 circumradius\n"
          ]
        }
      ]
    },
    {
      "cell_type": "code",
      "source": [
        "print(len(p))"
      ],
      "metadata": {
        "colab": {
          "base_uri": "https://localhost:8080/"
        },
        "id": "of3tFNXki47Y",
        "outputId": "4778870a-0e56-474c-b9f6-057c545caded"
      },
      "execution_count": 18,
      "outputs": [
        {
          "output_type": "stream",
          "name": "stdout",
          "text": [
            "10\n"
          ]
        }
      ]
    },
    {
      "cell_type": "code",
      "source": [
        "print(p[3])"
      ],
      "metadata": {
        "colab": {
          "base_uri": "https://localhost:8080/"
        },
        "id": "m0n3OCKvi4x-",
        "outputId": "80068cfc-1558-4a2b-b1eb-c70a283e0a24"
      },
      "execution_count": 19,
      "outputs": [
        {
          "output_type": "stream",
          "name": "stdout",
          "text": [
            "For a polygon with the number of vertices 3 and a circumradius of 5\n",
            ",         The measure of interior angle is 60.0\n",
            ".         The measure of edge length is 8.66\n",
            ".         The measure of apothem is 2.5\n",
            ".         The measure of area is 32.48\n",
            ".         The measure of perimeter is 25.98\n",
            "\n"
          ]
        }
      ]
    },
    {
      "cell_type": "code",
      "source": [
        "print(p[5:9:1])"
      ],
      "metadata": {
        "id": "Nz2kLNFNi4lM",
        "colab": {
          "base_uri": "https://localhost:8080/"
        },
        "outputId": "0d1736dc-6f44-4b4e-c21d-d3642ebb4cc0"
      },
      "execution_count": 20,
      "outputs": [
        {
          "output_type": "stream",
          "name": "stdout",
          "text": [
            "requesting [5:9:1]\n",
            "[For a polygon with the number of vertices 5 and a circumradius of 5\n",
            ",         The measure of interior angle is 108.0\n",
            ".         The measure of edge length is 5.88\n",
            ".         The measure of apothem is 4.05\n",
            ".         The measure of area is 59.53\n",
            ".         The measure of perimeter is 29.4\n",
            ", For a polygon with the number of vertices 6 and a circumradius of 5\n",
            ",         The measure of interior angle is 120.0\n",
            ".         The measure of edge length is 5.0\n",
            ".         The measure of apothem is 4.33\n",
            ".         The measure of area is 64.95\n",
            ".         The measure of perimeter is 30.0\n",
            ", For a polygon with the number of vertices 7 and a circumradius of 5\n",
            ",         The measure of interior angle is 128.57\n",
            ".         The measure of edge length is 4.34\n",
            ".         The measure of apothem is 4.5\n",
            ".         The measure of area is 68.36\n",
            ".         The measure of perimeter is 30.38\n",
            ", For a polygon with the number of vertices 8 and a circumradius of 5\n",
            ",         The measure of interior angle is 135.0\n",
            ".         The measure of edge length is 3.83\n",
            ".         The measure of apothem is 4.62\n",
            ".         The measure of area is 70.78\n",
            ".         The measure of perimeter is 30.64\n",
            "]\n"
          ]
        }
      ]
    },
    {
      "cell_type": "code",
      "source": [
        "p1 = PolygonSequence(25, 5)\n",
        "p1.maximum_efficient_polygon()"
      ],
      "metadata": {
        "colab": {
          "base_uri": "https://localhost:8080/"
        },
        "id": "7SmT7DaLIwlB",
        "outputId": "8671afbf-15d8-4cbf-844a-148c3b0ecc22"
      },
      "execution_count": 21,
      "outputs": [
        {
          "output_type": "stream",
          "name": "stdout",
          "text": [
            "Maximum efficient polygon:  24\n",
            "Max efficiency:  2.4799618320610683\n"
          ]
        },
        {
          "output_type": "execute_result",
          "data": {
            "text/plain": [
              "2.4799618320610683"
            ]
          },
          "metadata": {},
          "execution_count": 21
        }
      ]
    },
    {
      "cell_type": "markdown",
      "source": [
        "Testing for a valid iterator location"
      ],
      "metadata": {
        "id": "I-i4wsWwV9VJ"
      }
    },
    {
      "cell_type": "code",
      "source": [
        "ps = PolygonSequence(10, 5)\n",
        "poly_iter = iter(ps)\n",
        "print(poly_iter)"
      ],
      "metadata": {
        "colab": {
          "base_uri": "https://localhost:8080/"
        },
        "id": "EhSgwzWTWAzQ",
        "outputId": "d64f3557-4f58-417e-a24b-432dd46b1b3e"
      },
      "execution_count": 22,
      "outputs": [
        {
          "output_type": "stream",
          "name": "stdout",
          "text": [
            "<polygon.polygonsequence.PolygonSequence.PolygonSequenceIterator object at 0x7fbd3b870c90>\n"
          ]
        }
      ]
    },
    {
      "cell_type": "markdown",
      "source": [
        "Testing for iteration "
      ],
      "metadata": {
        "id": "xPOp_Fn7WW3W"
      }
    },
    {
      "cell_type": "code",
      "source": [
        "ps = PolygonSequence(10, 5)\n",
        "poly_iter = iter(ps)\n",
        "next(poly_iter), next(poly_iter), next(poly_iter)\n",
        "for polygon in poly_iter:\n",
        "  print(polygon)"
      ],
      "metadata": {
        "colab": {
          "base_uri": "https://localhost:8080/"
        },
        "id": "_aPUqCd5Wbq3",
        "outputId": "b0a20a23-c5bd-447d-904c-4511585c6c6f"
      },
      "execution_count": 23,
      "outputs": [
        {
          "output_type": "stream",
          "name": "stdout",
          "text": [
            "For a polygon with the number of vertices 3 and a circumradius of 5\n",
            ",         The measure of interior angle is 60.0\n",
            ".         The measure of edge length is 8.66\n",
            ".         The measure of apothem is 2.5\n",
            ".         The measure of area is 32.48\n",
            ".         The measure of perimeter is 25.98\n",
            "\n",
            "For a polygon with the number of vertices 4 and a circumradius of 5\n",
            ",         The measure of interior angle is 90.0\n",
            ".         The measure of edge length is 7.07\n",
            ".         The measure of apothem is 3.54\n",
            ".         The measure of area is 50.06\n",
            ".         The measure of perimeter is 28.28\n",
            "\n",
            "For a polygon with the number of vertices 5 and a circumradius of 5\n",
            ",         The measure of interior angle is 108.0\n",
            ".         The measure of edge length is 5.88\n",
            ".         The measure of apothem is 4.05\n",
            ".         The measure of area is 59.53\n",
            ".         The measure of perimeter is 29.4\n",
            "\n",
            "For a polygon with the number of vertices 6 and a circumradius of 5\n",
            ",         The measure of interior angle is 120.0\n",
            ".         The measure of edge length is 5.0\n",
            ".         The measure of apothem is 4.33\n",
            ".         The measure of area is 64.95\n",
            ".         The measure of perimeter is 30.0\n",
            "\n",
            "For a polygon with the number of vertices 7 and a circumradius of 5\n",
            ",         The measure of interior angle is 128.57\n",
            ".         The measure of edge length is 4.34\n",
            ".         The measure of apothem is 4.5\n",
            ".         The measure of area is 68.36\n",
            ".         The measure of perimeter is 30.38\n",
            "\n",
            "For a polygon with the number of vertices 8 and a circumradius of 5\n",
            ",         The measure of interior angle is 135.0\n",
            ".         The measure of edge length is 3.83\n",
            ".         The measure of apothem is 4.62\n",
            ".         The measure of area is 70.78\n",
            ".         The measure of perimeter is 30.64\n",
            "\n",
            "For a polygon with the number of vertices 9 and a circumradius of 5\n",
            ",         The measure of interior angle is 140.0\n",
            ".         The measure of edge length is 3.42\n",
            ".         The measure of apothem is 4.7\n",
            ".         The measure of area is 72.33\n",
            ".         The measure of perimeter is 30.78\n",
            "\n"
          ]
        }
      ]
    }
  ]
}